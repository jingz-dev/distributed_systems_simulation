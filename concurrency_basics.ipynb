{
 "cells": [
  {
   "cell_type": "markdown",
   "metadata": {},
   "source": [
    "### Python concurrency cheat sheet"
   ]
  },
  {
   "cell_type": "markdown",
   "metadata": {},
   "source": [
    "#### Concurrent Pattern 1, parallel execution of tasks\n",
    "* the total amount of work is known prior to execution\n",
    "* no state sharing between tasks "
   ]
  },
  {
   "cell_type": "code",
   "execution_count": 38,
   "metadata": {},
   "outputs": [],
   "source": [
    "import asyncio\n",
    "import time\n",
    "from typing import List\n",
    "import concurrent.futures\n",
    "import random\n",
    "\n",
    "\n",
    "def run_task(name: str):\n",
    "    time.sleep(random.random())\n",
    "    return f'{name} done'\n",
    "\n",
    "async def run_task_async(name: str):\n",
    "    await asyncio.sleep(random.random())\n",
    "    return f'{name} done'\n",
    "\n",
    "tasks = [str(i) for i in range(5)]"
   ]
  },
  {
   "cell_type": "code",
   "execution_count": 39,
   "metadata": {},
   "outputs": [
    {
     "name": "stdout",
     "output_type": "stream",
     "text": [
      "0 done\n",
      "1 done\n",
      "3 done\n",
      "2 done\n",
      "4 done\n"
     ]
    }
   ],
   "source": [
    "def batch_futures_threaded(tasks: List[str]):\n",
    "    with concurrent.futures.ThreadPoolExecutor(2) as executor:\n",
    "        futures = []\n",
    "        for task_name in tasks:\n",
    "            futures.append(executor.submit(run_task, task_name))\n",
    "        \n",
    "        for f in concurrent.futures.as_completed(futures): # https://docs.python.org/3/library/concurrent.futures.html#concurrent.futures.Future\n",
    "            print(f.result())\n",
    "\n",
    "batch_futures_threaded(tasks)"
   ]
  },
  {
   "cell_type": "code",
   "execution_count": 40,
   "metadata": {},
   "outputs": [
    {
     "name": "stdout",
     "output_type": "stream",
     "text": [
      "3 done\n",
      "4 done\n",
      "1 done\n",
      "2 done\n",
      "0 done\n"
     ]
    }
   ],
   "source": [
    "async def batch_futures_asyncio(tasks: List[str]):\n",
    "    coroutines = [run_task_async(task_name) for task_name in tasks]\n",
    "    for future in asyncio.as_completed(coroutines):\n",
    "        print(await future)\n",
    "\n",
    "await batch_futures_asyncio(tasks)"
   ]
  },
  {
   "cell_type": "code",
   "execution_count": 41,
   "metadata": {},
   "outputs": [
    {
     "name": "stdout",
     "output_type": "stream",
     "text": [
      "['0 done', '1 done', '2 done', '3 done', '4 done']\n"
     ]
    }
   ],
   "source": [
    "async def gather_asyncio(tasks: List[str]):\n",
    "    coroutines = [run_task_async(task_name) for task_name in tasks]\n",
    "    return await asyncio.gather(*coroutines)\n",
    "\n",
    "print(await gather_asyncio(tasks))"
   ]
  },
  {
   "cell_type": "code",
   "execution_count": 42,
   "metadata": {},
   "outputs": [
    {
     "data": {
      "text/plain": [
       "['2 done', '4 done', '1 done', '3 done', '0 done']"
      ]
     },
     "execution_count": 42,
     "metadata": {},
     "output_type": "execute_result"
    }
   ],
   "source": [
    "import queue\n",
    "from threading import Thread\n",
    "\n",
    "def manual_gather_threading(tasks: List[str]):\n",
    "    def task_wrapper(task_name: str, q: queue.Queue):\n",
    "        result = run_task(task_name)\n",
    "        q.put(result)\n",
    "\n",
    "    q = queue.Queue()\n",
    "    threads = [Thread(target=task_wrapper, args=(task_name,q)) for task_name in tasks]\n",
    "    [t.start() for t in threads]\n",
    "    [t.join() for t in threads]\n",
    "    \n",
    "    print_q = []\n",
    "    while not q.empty():\n",
    "        print_q.append(q.get())\n",
    "        q.task_done()\n",
    "    return print_q\n",
    "\n",
    "manual_gather_threading(tasks)"
   ]
  },
  {
   "cell_type": "markdown",
   "metadata": {},
   "source": [
    "#### Pattern: Crawl / Producer-Consumer"
   ]
  },
  {
   "cell_type": "code",
   "execution_count": 9,
   "metadata": {},
   "outputs": [],
   "source": [
    "class PerfectBinaryTree:\n",
    "    def __init__(self, depth=0):\n",
    "        self.arr = list(range(2 ** (depth + 1) - 1))\n",
    "\n",
    "    def get_children(self, node):\n",
    "        if node < len(self.arr)//2:\n",
    "            return [2*node+1, 2*node+2]\n",
    "        return []"
   ]
  },
  {
   "cell_type": "code",
   "execution_count": 26,
   "metadata": {},
   "outputs": [],
   "source": [
    "from threading import Lock\n",
    "import time, asyncio, queue, concurrent.futures, random\n",
    "\n",
    "\n",
    "class AtomicCounter:\n",
    "    def __init__(self):\n",
    "        self.lock = Lock()\n",
    "        self.count = 0\n",
    "\n",
    "    def increment(self):\n",
    "        with self.lock:\n",
    "            self.count += 1\n",
    "    \n",
    "    def value(self):\n",
    "        result = 0\n",
    "        with self.lock:\n",
    "            result = self.count\n",
    "        return result\n",
    "\n",
    "\n",
    "def run_task(node: int, t: PerfectBinaryTree):\n",
    "    time.sleep(random.random())\n",
    "    return t.get_children(node)\n",
    "\n",
    "async def run_task_async(node: int, t: PerfectBinaryTree):\n",
    "    await asyncio.sleep(random.random())\n",
    "    print(f'{node} done')\n",
    "    return t.get_children(node)\n",
    "\n",
    "t = PerfectBinaryTree(4)"
   ]
  },
  {
   "cell_type": "code",
   "execution_count": 24,
   "metadata": {},
   "outputs": [
    {
     "name": "stdout",
     "output_type": "stream",
     "text": [
      "31\n"
     ]
    }
   ],
   "source": [
    "def run_traverse_tree_threaded(t: PerfectBinaryTree):\n",
    "    def feedback_wrapper(node: int, q: queue.Queue, t: PerfectBinaryTree, ac: AtomicCounter):\n",
    "        results = run_task(node, t)\n",
    "        ac.increment()\n",
    "        for r in results:\n",
    "            q.put(r)\n",
    "\n",
    "    ac = AtomicCounter()\n",
    "    q = queue.Queue()\n",
    "    q.put(0)\n",
    "\n",
    "    futures = []\n",
    "    with concurrent.futures.ThreadPoolExecutor(10) as executor:\n",
    "        while True:\n",
    "            try:\n",
    "                node = q.get(timeout=3)\n",
    "                f = executor.submit(feedback_wrapper, node, q, t, ac)\n",
    "                futures.append(f)\n",
    "                q.task_done()\n",
    "            except queue.Empty:\n",
    "                break\n",
    "        q.join()\n",
    "    print(ac.value())\n",
    "    return futures\n",
    "futures = run_traverse_tree_threaded(t)\n"
   ]
  },
  {
   "cell_type": "code",
   "execution_count": 35,
   "metadata": {},
   "outputs": [
    {
     "name": "stdout",
     "output_type": "stream",
     "text": [
      "0 done\n",
      "1 done\n",
      "2 done\n",
      "5 done\n",
      "4 done\n",
      "6 done\n",
      "3 done\n",
      "14 done\n",
      "11 done\n",
      "12 done\n",
      "9 done\n",
      "7 done\n",
      "8 done\n",
      "13 done\n",
      "10 done\n",
      "19 done\n",
      "30 done\n",
      "29 done\n",
      "26 done\n",
      "20 done\n",
      "24 done\n",
      "16 done\n",
      "15 done\n",
      "28 done\n",
      "22 done\n",
      "27 done\n",
      "17 done\n",
      "21 done\n",
      "25 done\n",
      "23 done\n",
      "18 done\n"
     ]
    }
   ],
   "source": [
    "async def run_traverse_tree_asyncio(t: PerfectBinaryTree):\n",
    "    q = [0]\n",
    "    while q:\n",
    "        coroutines = [run_task_async(node, t) for node in q]\n",
    "        gathered = await asyncio.gather(*coroutines)\n",
    "        children = [node for output in gathered for node in output]\n",
    "        q = children\n",
    "\n",
    "await run_traverse_tree_asyncio(t)\n",
    "        "
   ]
  },
  {
   "cell_type": "code",
   "execution_count": null,
   "metadata": {},
   "outputs": [],
   "source": []
  }
 ],
 "metadata": {
  "kernelspec": {
   "display_name": "system_design",
   "language": "python",
   "name": "python3"
  },
  "language_info": {
   "codemirror_mode": {
    "name": "ipython",
    "version": 3
   },
   "file_extension": ".py",
   "mimetype": "text/x-python",
   "name": "python",
   "nbconvert_exporter": "python",
   "pygments_lexer": "ipython3",
   "version": "3.11.7"
  }
 },
 "nbformat": 4,
 "nbformat_minor": 2
}
