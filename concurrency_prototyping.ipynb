{
 "cells": [
  {
   "cell_type": "markdown",
   "metadata": {},
   "source": [
    "#### asyncio: don't forget to await everything - it's almost a generator"
   ]
  },
  {
   "cell_type": "code",
   "execution_count": null,
   "metadata": {},
   "outputs": [],
   "source": [
    "import asyncio\n",
    "\n",
    "async def worker(name, queue, to_consume, semaphore):\n",
    "    async with semaphore:\n",
    "        print(f'worker {name} consuming {to_consume}')\n",
    "        await asyncio.sleep(1)\n",
    "        l = len(to_consume)\n",
    "        if l == 1:\n",
    "            return\n",
    "        await queue.put(to_consume[:l//2])\n",
    "        await queue.put(to_consume[l//2:])\n",
    "    \n",
    "async def coordinator():\n",
    "    queue = asyncio.Queue()\n",
    "    semaphore = asyncio.Semaphore(5)\n",
    "    await queue.put('abcdefghijklmn')\n",
    "    while True:\n",
    "        to_consume = await queue.get()\n",
    "        if to_consume:\n",
    "            asyncio.create_task(worker('', queue, to_consume, semaphore))\n",
    "\n",
    "await coordinator()"
   ]
  },
  {
   "cell_type": "markdown",
   "metadata": {},
   "source": [
    "#### Threads: Remember your locks"
   ]
  },
  {
   "cell_type": "code",
   "execution_count": null,
   "metadata": {},
   "outputs": [],
   "source": [
    "import time\n",
    "from concurrent.futures import ThreadPoolExecutor\n",
    "from queue import Queue\n",
    "\n",
    "def worker(to_consume, queue):\n",
    "    print(f'consuming {to_consume}')\n",
    "    time.sleep(1)\n",
    "    l = len(to_consume)\n",
    "    if l == 1:\n",
    "        return\n",
    "    queue.put(to_consume[:l//2])\n",
    "    queue.put(to_consume[l//2:])\n",
    "\n",
    "def coordinator():\n",
    "    pool = ThreadPoolExecutor(5)\n",
    "    q = Queue()\n",
    "    q.put('abcdefghijklmn')\n",
    "    while True:\n",
    "        to_consume = q.get()\n",
    "        pool.submit(worker, to_consume, q)\n",
    "\n",
    "coordinator()"
   ]
  },
  {
   "cell_type": "markdown",
   "metadata": {},
   "source": [
    "#### asyncio client/server"
   ]
  },
  {
   "cell_type": "code",
   "execution_count": 3,
   "metadata": {},
   "outputs": [
    {
     "name": "stdout",
     "output_type": "stream",
     "text": [
      "Serving on ('127.0.0.1', 8888)\n"
     ]
    }
   ],
   "source": [
    "import asyncio, threading\n",
    "\n",
    "async def handle_echo(reader, writer):\n",
    "    data = await reader.read(100)\n",
    "    message = data.decode()\n",
    "    addr = writer.get_extra_info('peername')\n",
    "\n",
    "    print(f\"Received {message!r} from {addr!r}\")\n",
    "\n",
    "    print(f\"Send: {message!r}\")\n",
    "    writer.write(data)\n",
    "    await writer.drain()\n",
    "\n",
    "    print(\"Close the connection\")\n",
    "    writer.close()\n",
    "    await writer.wait_closed()\n",
    "\n",
    "async def main():\n",
    "    server = await asyncio.start_server(\n",
    "        handle_echo, '127.0.0.1', 8888)\n",
    "\n",
    "    addrs = ', '.join(str(sock.getsockname()) for sock in server.sockets)\n",
    "    print(f'Serving on {addrs}')\n",
    "\n",
    "    async with server:\n",
    "        await server.serve_forever()\n",
    "\n",
    "def server_thread():\n",
    "    loop = asyncio.new_event_loop()\n",
    "    def run_server(loop: asyncio.BaseEventLoop):\n",
    "        asyncio.set_event_loop(loop)\n",
    "        asyncio.run(main())\n",
    "    thread = threading.Thread(target=run_server, args=[loop])\n",
    "    return thread\n",
    "\n",
    "thread = server_thread()\n",
    "thread.start()"
   ]
  },
  {
   "cell_type": "markdown",
   "metadata": {},
   "source": [
    "code from https://docs.python.org/3/library/asyncio-stream.html#tcp-echo-server-using-streams  \n",
    "note for serve_forever to work correctly in ipynb either need to not be in the same event loop: use nest_asyncio or a new event loop"
   ]
  },
  {
   "cell_type": "code",
   "execution_count": 5,
   "metadata": {},
   "outputs": [
    {
     "name": "stdout",
     "output_type": "stream",
     "text": [
      "Send: 'Hello World!'\n",
      "Received: 'Hello World!'\n",
      "Close the connection\n"
     ]
    },
    {
     "name": "stdout",
     "output_type": "stream",
     "text": [
      "Received 'Hello World!' from ('127.0.0.1', 50830)\n",
      "Send: 'Hello World!'\n",
      "Close the connection\n"
     ]
    }
   ],
   "source": [
    "import asyncio\n",
    "\n",
    "async def tcp_echo_client(message):\n",
    "    reader, writer = await asyncio.open_connection(\n",
    "        '127.0.0.1', 8888)\n",
    "\n",
    "    print(f'Send: {message!r}')\n",
    "    writer.write(message.encode())\n",
    "    await writer.drain()\n",
    "\n",
    "    data = await reader.read(100)\n",
    "    print(f'Received: {data.decode()!r}')\n",
    "\n",
    "    print('Close the connection')\n",
    "    writer.close()\n",
    "    await writer.wait_closed()\n",
    "\n",
    "await tcp_echo_client('Hello World!')"
   ]
  },
  {
   "cell_type": "code",
   "execution_count": null,
   "metadata": {},
   "outputs": [],
   "source": []
  }
 ],
 "metadata": {
  "kernelspec": {
   "display_name": "system_design",
   "language": "python",
   "name": "python3"
  },
  "language_info": {
   "codemirror_mode": {
    "name": "ipython",
    "version": 3
   },
   "file_extension": ".py",
   "mimetype": "text/x-python",
   "name": "python",
   "nbconvert_exporter": "python",
   "pygments_lexer": "ipython3",
   "version": "3.11.7"
  }
 },
 "nbformat": 4,
 "nbformat_minor": 2
}
