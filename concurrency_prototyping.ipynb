{
 "cells": [
  {
   "cell_type": "markdown",
   "metadata": {},
   "source": [
    "#### asyncio: don't forget to await everything - it's almost a generator"
   ]
  },
  {
   "cell_type": "code",
   "execution_count": null,
   "metadata": {},
   "outputs": [],
   "source": [
    "import asyncio\n",
    "\n",
    "async def worker(name, queue, to_consume, semaphore):\n",
    "    async with semaphore:\n",
    "        print(f'worker {name} consuming {to_consume}')\n",
    "        await asyncio.sleep(1)\n",
    "        l = len(to_consume)\n",
    "        if l == 1:\n",
    "            return\n",
    "        await queue.put(to_consume[:l//2])\n",
    "        await queue.put(to_consume[l//2:])\n",
    "    \n",
    "async def coordinator():\n",
    "    queue = asyncio.Queue()\n",
    "    semaphore = asyncio.Semaphore(5)\n",
    "    await queue.put('abcdefghijklmn')\n",
    "    while True:\n",
    "        to_consume = await queue.get()\n",
    "        if to_consume:\n",
    "            asyncio.create_task(worker('', queue, to_consume, semaphore))\n",
    "\n",
    "await coordinator()"
   ]
  },
  {
   "cell_type": "markdown",
   "metadata": {},
   "source": [
    "#### Threads: Remember your locks"
   ]
  },
  {
   "cell_type": "code",
   "execution_count": null,
   "metadata": {},
   "outputs": [],
   "source": [
    "import time\n",
    "from concurrent.futures import ThreadPoolExecutor\n",
    "from queue import Queue\n",
    "\n",
    "def worker(to_consume, queue):\n",
    "    print(f'consuming {to_consume}')\n",
    "    time.sleep(1)\n",
    "    l = len(to_consume)\n",
    "    if l == 1:\n",
    "        return\n",
    "    queue.put(to_consume[:l//2])\n",
    "    queue.put(to_consume[l//2:])\n",
    "\n",
    "def coordinator():\n",
    "    pool = ThreadPoolExecutor(5)\n",
    "    q = Queue()\n",
    "    q.put('abcdefghijklmn')\n",
    "    while True:\n",
    "        to_consume = q.get()\n",
    "        pool.submit(worker, to_consume, q)\n",
    "\n",
    "coordinator()"
   ]
  },
  {
   "cell_type": "code",
   "execution_count": null,
   "metadata": {},
   "outputs": [],
   "source": []
  }
 ],
 "metadata": {
  "kernelspec": {
   "display_name": "system_design",
   "language": "python",
   "name": "python3"
  },
  "language_info": {
   "codemirror_mode": {
    "name": "ipython",
    "version": 3
   },
   "file_extension": ".py",
   "mimetype": "text/x-python",
   "name": "python",
   "nbconvert_exporter": "python",
   "pygments_lexer": "ipython3",
   "version": "3.11.7"
  }
 },
 "nbformat": 4,
 "nbformat_minor": 2
}
