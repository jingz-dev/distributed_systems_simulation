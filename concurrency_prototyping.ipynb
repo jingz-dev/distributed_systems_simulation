{
 "cells": [
  {
   "cell_type": "code",
   "execution_count": null,
   "metadata": {},
   "outputs": [],
   "source": [
    "import asyncio\n",
    "\n",
    "async def consumer(name, queue, semaphore):\n",
    "    async with semaphore:\n",
    "        to_consume = await queue.get()\n",
    "        print(f'consumer {name} consuming {to_consume}')\n",
    "        asyncio.sleep(1)\n",
    "        l = len(to_consume)\n",
    "        return [to_consume[:l//2], to_consume[l//2:]]\n",
    "    \n",
    "async def producer():\n",
    "    consumed = set()\n",
    "    queue = asyncio.Queue()\n",
    "    semaphore = asyncio.Semaphore(5)\n",
    "    await queue.put('abcdefghijklmn')\n",
    "    workers = []\n",
    "    for _ in range(5):\n",
    "        worker = asyncio.create_task(consumer(queue, semaphore, consumed))\n",
    "        workers.append(worker)"
   ]
  },
  {
   "cell_type": "code",
   "execution_count": 1,
   "metadata": {},
   "outputs": [
    {
     "data": {
      "text/plain": [
       "[]"
      ]
     },
     "execution_count": 1,
     "metadata": {},
     "output_type": "execute_result"
    }
   ],
   "source": [
    "[][:-1]"
   ]
  },
  {
   "cell_type": "code",
   "execution_count": null,
   "metadata": {},
   "outputs": [],
   "source": []
  }
 ],
 "metadata": {
  "kernelspec": {
   "display_name": "system_design",
   "language": "python",
   "name": "python3"
  },
  "language_info": {
   "codemirror_mode": {
    "name": "ipython",
    "version": 3
   },
   "file_extension": ".py",
   "mimetype": "text/x-python",
   "name": "python",
   "nbconvert_exporter": "python",
   "pygments_lexer": "ipython3",
   "version": "3.11.7"
  }
 },
 "nbformat": 4,
 "nbformat_minor": 2
}
