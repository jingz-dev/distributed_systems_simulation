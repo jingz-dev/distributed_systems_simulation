{
 "cells": [
  {
   "cell_type": "markdown",
   "metadata": {},
   "source": [
    "#### Experiment 01: usim as the backing DES framework feasibility"
   ]
  },
  {
   "cell_type": "code",
   "execution_count": 3,
   "metadata": {},
   "outputs": [],
   "source": [
    "from usim import time, run, Scope, Tracked\n",
    "class Server:\n",
    "    def __init__(self, counter, s2):\n",
    "        self.counter = counter\n",
    "        self.s2 = s2\n",
    "\n",
    "    async def get_and_increment(self, request):\n",
    "        print(f'{time.now} received call with request')\n",
    "        await (time + 5)\n",
    "        print(f'{time.now} returning')\n",
    "        response = self.counter\n",
    "        self.counter += 1\n",
    "        await request.set(response)\n",
    "\n",
    "    def resolve(self):\n",
    "        return self.s2.get_and_increment, self.s2\n",
    "\n",
    "    async def rpc(self):\n",
    "        async with Scope() as client:\n",
    "            request = Tracked(0)\n",
    "            api, instance = self.resolve()\n",
    "            await client.do(api(request))\n",
    "            response = request.value\n",
    "            print(f'{time.now} rpc {response=}')"
   ]
  },
  {
   "cell_type": "code",
   "execution_count": 4,
   "metadata": {},
   "outputs": [
    {
     "name": "stdout",
     "output_type": "stream",
     "text": [
      "0 starting calls\n",
      "0 received call with request\n",
      "5 returning\n",
      "5 rpc response=1000\n"
     ]
    }
   ],
   "source": [
    "s2 = Server(1000, None)\n",
    "s1 = Server(0, s2)\n",
    "\n",
    "async def call_server():\n",
    "    print(f'{time.now} starting calls')\n",
    "    await s1.rpc()\n",
    "\n",
    "run(call_server())"
   ]
  },
  {
   "cell_type": "markdown",
   "metadata": {},
   "source": [
    "#### Experiment 02: Adding some structure to the code for upcoming framework design ideas\n",
    "* dns resolution of hostnames to server can be simulated by a dictionary lookup to the actual server class\n",
    "* latency can be simulated by await time\n",
    "* I also want to simulate the overloading of CPU resources and system behavior of services under load as soon as possible. If some non-linearity of latency can be observed (by logging and plotting), then it indicates this simulation is successful and can be further developed.\n",
    "  * Probably requires a request queue in the server and cpu resource modelling."
   ]
  },
  {
   "cell_type": "code",
   "execution_count": 6,
   "metadata": {},
   "outputs": [],
   "source": [
    "from usim import run, time, Scope, Tracked\n",
    "\n",
    "class Server:\n",
    "    def __init__(self):\n",
    "        self.counter = 0\n",
    "\n",
    "    async def increment_counter(self, payload):\n",
    "        await (time + 1)\n",
    "        self.counter += 1\n",
    "        response_payload = {\n",
    "            'counter': self.counter,\n",
    "            'og_payload': payload\n",
    "        }\n",
    "        return Tracked(response_payload)"
   ]
  },
  {
   "cell_type": "code",
   "execution_count": 7,
   "metadata": {},
   "outputs": [
    {
     "name": "stdout",
     "output_type": "stream",
     "text": [
      "0 - calling rpc\n",
      "1 - {'counter': 1, 'og_payload': {1}}\n",
      "1 - calling rpc\n",
      "2 - {'counter': 2, 'og_payload': {1}}\n",
      "2 - calling rpc\n",
      "3 - {'counter': 3, 'og_payload': {1}}\n",
      "3 - calling rpc\n",
      "4 - {'counter': 4, 'og_payload': {1}}\n",
      "4 - calling rpc\n",
      "5 - {'counter': 5, 'og_payload': {1}}\n",
      "5 - calling rpc\n",
      "6 - {'counter': 6, 'og_payload': {1}}\n",
      "6 - calling rpc\n",
      "7 - {'counter': 7, 'og_payload': {1}}\n",
      "7 - calling rpc\n",
      "8 - {'counter': 8, 'og_payload': {1}}\n",
      "8 - calling rpc\n",
      "9 - {'counter': 9, 'og_payload': {1}}\n",
      "9 - calling rpc\n",
      "10 - {'counter': 10, 'og_payload': {1}}\n"
     ]
    }
   ],
   "source": [
    "server_dict = {'a': Server()}\n",
    "\n",
    "async def rpc(url: str, api: str, payload: dict):\n",
    "    s = server_dict[url]\n",
    "    a = getattr(s, api)\n",
    "    response = await a(payload)\n",
    "    return response\n",
    "\n",
    "async def client_logic():\n",
    "    for _ in range(10):\n",
    "        print(f'{time.now} - calling rpc')\n",
    "        response = await rpc('a', 'increment_counter', {1})\n",
    "        print(f'{time.now} - {response.value}')\n",
    "\n",
    "run(client_logic(), till=20)"
   ]
  },
  {
   "cell_type": "markdown",
   "metadata": {},
   "source": [
    "#### Experiment 03: adding more layers with the same forumla. See if it scales"
   ]
  },
  {
   "cell_type": "code",
   "execution_count": 17,
   "metadata": {},
   "outputs": [
    {
     "name": "stdout",
     "output_type": "stream",
     "text": [
      "00000 - client calling rpc\n",
      "00000 - lb received request forwarding to >> cs1\n",
      "00020 - cs1 received {'a': 4, 'b': 2}\n",
      "00220 - cs1 response {'result': 6}\n",
      "00220 - client response {'result': 6}\n",
      "00220 - client calling rpc\n",
      "00220 - lb received request forwarding to >> cs2\n",
      "00240 - cs2 received {'a': 4, 'b': 2}\n",
      "00440 - cs2 response {'result': 6}\n",
      "00440 - client response {'result': 6}\n",
      "00440 - client calling rpc\n",
      "00440 - lb received request forwarding to >> cs3\n",
      "00460 - cs3 received {'a': 4, 'b': 2}\n",
      "00660 - cs3 response {'result': 6}\n",
      "00660 - client response {'result': 6}\n",
      "00660 - client calling rpc\n",
      "00660 - lb received request forwarding to >> cs1\n",
      "00680 - cs1 received {'a': 4, 'b': 2}\n",
      "00880 - cs1 response {'result': 6}\n",
      "00880 - client response {'result': 6}\n",
      "00880 - client calling rpc\n",
      "00880 - lb received request forwarding to >> cs2\n",
      "00900 - cs2 received {'a': 4, 'b': 2}\n"
     ]
    }
   ],
   "source": [
    "from usim import run, time, Tracked\n",
    "from itertools import cycle\n",
    "\n",
    "class Logger:\n",
    "    @staticmethod\n",
    "    def log(s):\n",
    "        print(f'{time.now:0>5} - {s}')\n",
    "\n",
    "class LoadBalancer:\n",
    "    def __init__(self, server_names):\n",
    "        self.counter = 0\n",
    "        self.server_names = cycle(server_names)\n",
    "\n",
    "    async def compute(self, payload):\n",
    "        server_name = next(self.server_names)\n",
    "        Logger.log(f'lb received request forwarding to >> {server_name}')\n",
    "        await (time + 20)\n",
    "        return await rpc(server_name, 'compute', payload)\n",
    "\n",
    "class ComputeServer:\n",
    "    def __init__(self, name):\n",
    "        self.name = name\n",
    "    \n",
    "    async def compute(self, payload):\n",
    "        Logger.log(f'{self.name} received {payload}')\n",
    "        await (time + 200)\n",
    "        a, b = payload['a'], payload['b']\n",
    "        response = {\n",
    "            'result': a + b\n",
    "        }\n",
    "        Logger.log(f'{self.name} response {response}')\n",
    "        return Tracked(response)\n",
    "    \n",
    "cs1 = ComputeServer('cs1')\n",
    "cs2 = ComputeServer('cs2')\n",
    "cs3 = ComputeServer('cs3')\n",
    "lb = LoadBalancer(['cs1', 'cs2', 'cs3'])\n",
    "\n",
    "server_dict = {\n",
    "    'ComputeService': lb,\n",
    "    'cs1' : cs1,\n",
    "    'cs2' : cs2,\n",
    "    'cs3' : cs3\n",
    "}\n",
    "\n",
    "async def rpc(url: str, api: str, payload: dict):\n",
    "    s = server_dict[url]\n",
    "    a = getattr(s, api)\n",
    "    response = await a(payload)\n",
    "    return response\n",
    "\n",
    "async def client_logic():\n",
    "    for _ in range(10):\n",
    "        Logger.log(f'client calling rpc')\n",
    "        response = await rpc('ComputeService', 'compute', {'a': 4, 'b': 2})\n",
    "        Logger.log(f'client response {response.value}')\n",
    "\n",
    "run(client_logic(), till=1000)"
   ]
  },
  {
   "cell_type": "code",
   "execution_count": null,
   "metadata": {},
   "outputs": [],
   "source": []
  },
  {
   "cell_type": "code",
   "execution_count": null,
   "metadata": {},
   "outputs": [],
   "source": []
  }
 ],
 "metadata": {
  "kernelspec": {
   "display_name": "system_design",
   "language": "python",
   "name": "python3"
  },
  "language_info": {
   "codemirror_mode": {
    "name": "ipython",
    "version": 3
   },
   "file_extension": ".py",
   "mimetype": "text/x-python",
   "name": "python",
   "nbconvert_exporter": "python",
   "pygments_lexer": "ipython3",
   "version": "3.11.7"
  }
 },
 "nbformat": 4,
 "nbformat_minor": 2
}
