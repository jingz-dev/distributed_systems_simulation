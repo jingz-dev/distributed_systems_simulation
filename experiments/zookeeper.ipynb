{
 "cells": [
  {
   "cell_type": "markdown",
   "metadata": {},
   "source": [
    "* `docker pull zookeeper`\n",
    "* `minikube start`\n",
    "* `kubectl create -f namespace.yaml`\n",
    "* `kubectl apply -f zk.yaml`\n",
    "* `kubectl get deployment`\n",
    "* `kubectl logs deployment/zookeeper-deployment`"
   ]
  },
  {
   "cell_type": "code",
   "execution_count": 10,
   "metadata": {},
   "outputs": [],
   "source": [
    "from kubernetes import client, config\n",
    "\n",
    "# Configs can be set in Configuration class directly or using helper utility\n",
    "config.load_kube_config()\n",
    "v1 = client.CoreV1Api()"
   ]
  },
  {
   "cell_type": "code",
   "execution_count": 9,
   "metadata": {},
   "outputs": [
    {
     "name": "stdout",
     "output_type": "stream",
     "text": [
      "Listing pods with their IPs:\n",
      "10.244.0.210\tzk\tzookeeper-deployment-84c5bd-8lcnf\n",
      "10.244.0.211\tzk\tzookeeper-deployment-84c5bd-vtths\n",
      "10.244.0.212\tzk\tzookeeper-deployment-84c5bd-ztx4l\n"
     ]
    }
   ],
   "source": [
    "namespace = 'zk'\n",
    "print(\"Listing pods with their IPs:\")\n",
    "ret = v1.list_namespaced_pod(namespace)\n",
    "for i in ret.items:\n",
    "    print(\"%s\\t%s\\t%s\" % (i.status.pod_ip, i.metadata.namespace, i.metadata.name))"
   ]
  },
  {
   "cell_type": "code",
   "execution_count": 15,
   "metadata": {},
   "outputs": [],
   "source": [
    "zk_pod = ret.items[0]"
   ]
  },
  {
   "cell_type": "code",
   "execution_count": 19,
   "metadata": {},
   "outputs": [
    {
     "data": {
      "text/plain": [
       "'10.244.0.210'"
      ]
     },
     "execution_count": 19,
     "metadata": {},
     "output_type": "execute_result"
    }
   ],
   "source": [
    "zk_pod.status.pod_ip"
   ]
  },
  {
   "cell_type": "markdown",
   "metadata": {},
   "source": [
    "#### Connect to zookeeper\n",
    "\n",
    "1. `minikube ip`\n",
    "2. `kubectl get service zookeeper-loadbalancer -n zk` get lb external port number (31011) in my case"
   ]
  },
  {
   "cell_type": "code",
   "execution_count": 27,
   "metadata": {},
   "outputs": [],
   "source": [
    "import subprocess\n",
    "\n",
    "minikube_ip = subprocess.check_output(['minikube', 'ip'])\n",
    "minikube_ip = str(minikube_ip, 'UTF-8').strip()"
   ]
  },
  {
   "cell_type": "code",
   "execution_count": 28,
   "metadata": {},
   "outputs": [],
   "source": [
    "from kazoo.client import KazooClient\n",
    "zk = KazooClient(hosts=f'{minikube_ip}:31011') # port number from kubectl get service command\n",
    "zk.start()"
   ]
  },
  {
   "cell_type": "code",
   "execution_count": 30,
   "metadata": {},
   "outputs": [
    {
     "data": {
      "text/plain": [
       "'/test_node/a'"
      ]
     },
     "execution_count": 30,
     "metadata": {},
     "output_type": "execute_result"
    }
   ],
   "source": [
    "zk.create('/test_node')\n",
    "zk.create('/test_node/a', b\"a simple string\")"
   ]
  },
  {
   "cell_type": "code",
   "execution_count": 32,
   "metadata": {},
   "outputs": [
    {
     "data": {
      "text/plain": [
       "(b'a simple string',\n",
       " ZnodeStat(czxid=4, mzxid=4, ctime=1714377114589, mtime=1714377114589, version=0, cversion=0, aversion=0, ephemeralOwner=0, dataLength=15, numChildren=0, pzxid=4))"
      ]
     },
     "execution_count": 32,
     "metadata": {},
     "output_type": "execute_result"
    }
   ],
   "source": [
    "zk.get('/test_node/a')"
   ]
  },
  {
   "cell_type": "code",
   "execution_count": 33,
   "metadata": {},
   "outputs": [],
   "source": [
    "zk.stop()\n",
    "zk.close()"
   ]
  },
  {
   "cell_type": "code",
   "execution_count": null,
   "metadata": {},
   "outputs": [],
   "source": []
  }
 ],
 "metadata": {
  "kernelspec": {
   "display_name": "system_design",
   "language": "python",
   "name": "python3"
  },
  "language_info": {
   "codemirror_mode": {
    "name": "ipython",
    "version": 3
   },
   "file_extension": ".py",
   "mimetype": "text/x-python",
   "name": "python",
   "nbconvert_exporter": "python",
   "pygments_lexer": "ipython3",
   "version": "3.11.7"
  }
 },
 "nbformat": 4,
 "nbformat_minor": 2
}
